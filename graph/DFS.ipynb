{
 "cells": [
  {
   "cell_type": "markdown",
   "id": "be14b842",
   "metadata": {},
   "source": [
    "# DFS(깊이우선탐색) : 현재 노드에서 가능한 한 깊이 먼저 탐색한 후, 더 이상 갈 곳이 없으면 직전 노드로 다시 돌아와서(backtracking) 다음 경로를 탐색하는 방식\n",
    "# 구현 방식은 재귀 / 스택 형식으로 나뉜다."
   ]
  },
  {
   "cell_type": "code",
   "execution_count": 1,
   "id": "ca8b7452",
   "metadata": {},
   "outputs": [],
   "source": [
    "# 방향 그래프 정의\n",
    "graph = {\n",
    "    'A': ['B', 'D', 'G'],\n",
    "    'B': ['C'],\n",
    "    'C': ['H'],\n",
    "    'D': ['E', 'F'],\n",
    "    'E': [],\n",
    "    'F': [],\n",
    "    'G': [],\n",
    "    'H': []\n",
    "}"
   ]
  },
  {
   "cell_type": "code",
   "execution_count": 2,
   "id": "38231317",
   "metadata": {},
   "outputs": [
    {
     "name": "stdout",
     "output_type": "stream",
     "text": [
      "DFS 방문 순서: ['A', 'B', 'C', 'H', 'D', 'E', 'F', 'G']\n"
     ]
    }
   ],
   "source": [
    "def dfs(graph, node, visited):\n",
    "    if node not in visited:\n",
    "        visited.append(node)\n",
    "        for neighbor in graph[node]:\n",
    "            dfs(graph, neighbor, visited)\n",
    "\n",
    "# 실행\n",
    "visited_nodes = []\n",
    "dfs(graph, 'A', visited_nodes)\n",
    "\n",
    "print(\"DFS 방문 순서:\", visited_nodes)"
   ]
  },
  {
   "cell_type": "markdown",
   "id": "8339a1f9",
   "metadata": {},
   "source": [
    "# Backtracking\n",
    "- Backtracking이 일어나는 과정은 노드를 방문했을 때 이웃이 없으면 현재의 dfs 함수가 종료되고 직전의 노드의 dfs 함수가 다시 실행이 된다. \n",
    "\n",
    "Ex. 방문: H\n",
    "\n",
    "인접노드: 없음 → 더 이상 탐색할 노드가 없음\n",
    "\n",
    "=> 여기서 백트래킹 발생!\n",
    "\n",
    "dfs('H') 함수가 종료되고\n",
    "\n",
    "→ dfs('C')로 돌아감"
   ]
  },
  {
   "cell_type": "code",
   "execution_count": 3,
   "id": "65824b4d",
   "metadata": {},
   "outputs": [
    {
     "name": "stdout",
     "output_type": "stream",
     "text": [
      "DFS (스택 방식) 방문 순서: ['A', 'B', 'C', 'H', 'D', 'E', 'F', 'G']\n"
     ]
    }
   ],
   "source": [
    "def dfs_iterative(graph, start):\n",
    "    visited = []\n",
    "    stack = [start]\n",
    "\n",
    "    while stack:\n",
    "        node = stack.pop()\n",
    "        if node not in visited:\n",
    "            visited.append(node)\n",
    "            # 역순으로 넣어야 왼쪽 노드부터 방문함\n",
    "            stack.extend(reversed(graph[node]))\n",
    "\n",
    "    return visited\n",
    "\n",
    "# 실행\n",
    "result = dfs_iterative(graph, 'A')\n",
    "print(\"DFS (스택 방식) 방문 순서:\", result)\n"
   ]
  },
  {
   "cell_type": "markdown",
   "id": "0f743d98",
   "metadata": {},
   "source": [
    "스택 기반 dfs 구현 코드에서는 탐색 중 이웃이 없어 if문이 종료되면 이전의 if문으로 돌아가서(Backtracking) 이 전의 노드에 접근이 가능해진다"
   ]
  }
 ],
 "metadata": {
  "kernelspec": {
   "display_name": "base",
   "language": "python",
   "name": "python3"
  },
  "language_info": {
   "codemirror_mode": {
    "name": "ipython",
    "version": 3
   },
   "file_extension": ".py",
   "mimetype": "text/x-python",
   "name": "python",
   "nbconvert_exporter": "python",
   "pygments_lexer": "ipython3",
   "version": "3.12.7"
  }
 },
 "nbformat": 4,
 "nbformat_minor": 5
}
