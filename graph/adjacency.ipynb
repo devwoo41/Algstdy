{
 "cells": [
  {
   "cell_type": "markdown",
   "id": "beb7af95",
   "metadata": {},
   "source": [
    "# 인접행렬 \n",
    "- 메모리의 O(n^2) : n x n 행렬로 표현하기 때문이다."
   ]
  },
  {
   "cell_type": "code",
   "execution_count": 1,
   "id": "fc993971",
   "metadata": {},
   "outputs": [
    {
     "name": "stdout",
     "output_type": "stream",
     "text": [
      "인접행렬:\n",
      "[0, 1, 0, 0, 1]\n",
      "[0, 0, 1, 0, 0]\n",
      "[0, 0, 0, 1, 0]\n",
      "[0, 0, 0, 0, 0]\n",
      "[0, 0, 1, 1, 0]\n"
     ]
    }
   ],
   "source": [
    "# 정점 수\n",
    "n = 5\n",
    "\n",
    "# 인접행렬 초기화 (n x n의 0으로 된 2차원 배열)\n",
    "adj_matrix = [[0] * n for _ in range(n)]\n",
    "\n",
    "# 간선 정보 추가\n",
    "adj_matrix[0][1] = 1\n",
    "adj_matrix[0][4] = 1\n",
    "adj_matrix[1][2] = 1\n",
    "adj_matrix[2][3] = 1\n",
    "adj_matrix[4][2] = 1\n",
    "adj_matrix[4][3] = 1\n",
    "\n",
    "# 출력\n",
    "print(\"인접행렬:\")\n",
    "for row in adj_matrix:\n",
    "    print(row)\n"
   ]
  },
  {
   "cell_type": "markdown",
   "id": "74ed81b0",
   "metadata": {},
   "source": [
    "# 인접리스트\n",
    "- 메모리의 O(n+m) : n번의 노드 설정과 m번의 에지 설정으로 나타내기 때문이다.\n",
    "- 정점 수 만큼의 리스트 + 에지 수 만큼의 연결 정보"
   ]
  },
  {
   "cell_type": "code",
   "execution_count": 2,
   "id": "fdc1c442",
   "metadata": {},
   "outputs": [
    {
     "name": "stdout",
     "output_type": "stream",
     "text": [
      "인접리스트:\n",
      "0 → [1, 4]\n",
      "1 → [2]\n",
      "2 → [3]\n",
      "3 → []\n",
      "4 → [2, 3]\n"
     ]
    }
   ],
   "source": [
    "# 정점 수\n",
    "n = 5\n",
    "\n",
    "# 인접리스트 초기화 (빈 리스트 n개 만들기)\n",
    "adj_list = [[] for _ in range(n)]\n",
    "\n",
    "# 간선 정보 추가\n",
    "adj_list[0].append(1)\n",
    "adj_list[0].append(4)\n",
    "adj_list[1].append(2)\n",
    "adj_list[2].append(3)\n",
    "adj_list[4].append(2)\n",
    "adj_list[4].append(3)\n",
    "\n",
    "# 출력\n",
    "print(\"인접리스트:\")\n",
    "for i in range(n):\n",
    "    print(f\"{i} → {adj_list[i]}\")\n"
   ]
  },
  {
   "cell_type": "markdown",
   "id": "92c43427",
   "metadata": {},
   "source": [
    "# 인접행렬에서의 연결 여부 확인\n",
    "- O(1) : graph[u][v]는 메모리 상으로 u행 v열의 위치를 바로 가리키기 때문이다."
   ]
  },
  {
   "cell_type": "code",
   "execution_count": 4,
   "id": "bf156a30",
   "metadata": {},
   "outputs": [
    {
     "name": "stdout",
     "output_type": "stream",
     "text": [
      "0→1 연결:  True\n",
      "1→4 연결:  False\n"
     ]
    }
   ],
   "source": [
    "# 인접행렬 방식\n",
    "n = 5\n",
    "adj_matrix = [[0]*n for _ in range(n)]\n",
    "\n",
    "# 간선 추가\n",
    "adj_matrix[0][1] = 1\n",
    "adj_matrix[0][4] = 1\n",
    "adj_matrix[1][2] = 1\n",
    "\n",
    "# 연결 여부 확인 함수\n",
    "def is_connected_matrix(u, v):\n",
    "    return adj_matrix[u][v] == 1\n",
    "\n",
    "# 예시\n",
    "print(\"0→1 연결: \", is_connected_matrix(0, 1))  # True\n",
    "print(\"1→4 연결: \", is_connected_matrix(1, 4))  # False"
   ]
  },
  {
   "cell_type": "markdown",
   "id": "2678c795",
   "metadata": {},
   "source": [
    "# 인접리스트에서의 연결 여부 확인\n",
    "- O(n) : graph[u]는 배열이고, 이 배열 안에서 v가 존재하는지 하나씩 순차적으로 탐색"
   ]
  },
  {
   "cell_type": "code",
   "execution_count": 5,
   "id": "d2a8d70b",
   "metadata": {},
   "outputs": [
    {
     "name": "stdout",
     "output_type": "stream",
     "text": [
      "0→1 연결:  True\n",
      "1→4 연결:  False\n"
     ]
    }
   ],
   "source": [
    "# 인접리스트 방식\n",
    "n = 5\n",
    "adj_list = [[] for _ in range(n)]\n",
    "\n",
    "# 간선 추가\n",
    "adj_list[0].append(1)\n",
    "adj_list[0].append(4)\n",
    "adj_list[1].append(2)\n",
    "\n",
    "# 연결 여부 확인 함수\n",
    "def is_connected_list(u, v):\n",
    "    return v in adj_list[u]\n",
    "\n",
    "# 예시\n",
    "print(\"0→1 연결: \", is_connected_list(0, 1))  # True\n",
    "print(\"1→4 연결: \", is_connected_list(1, 4))  # False\n"
   ]
  },
  {
   "cell_type": "markdown",
   "id": "83ef37cd",
   "metadata": {},
   "source": [
    "# 인접행렬에서의 인접 정점 탐색\n",
    "- O(n) : 행렬의 u번째 행을 전부 확인하면서 graph[u][v]==1인 정점 v들을 찾음"
   ]
  },
  {
   "cell_type": "code",
   "execution_count": 6,
   "id": "afe9df14",
   "metadata": {},
   "outputs": [
    {
     "name": "stdout",
     "output_type": "stream",
     "text": [
      "인접행렬: 0의 인접 정점 = [1, 4]\n"
     ]
    }
   ],
   "source": [
    "# 인접행렬 초기화 (5 x 5)\n",
    "n = 5\n",
    "adj_matrix = [[0]*n for _ in range(n)]\n",
    "\n",
    "# 간선 추가\n",
    "adj_matrix[0][1] = 1\n",
    "adj_matrix[0][4] = 1\n",
    "adj_matrix[1][2] = 1\n",
    "adj_matrix[2][3] = 1\n",
    "adj_matrix[4][2] = 1\n",
    "adj_matrix[4][3] = 1\n",
    "\n",
    "# 인접 정점 탐색 함수\n",
    "def get_adjacent_vertices_matrix(graph, u):\n",
    "    n = len(graph)\n",
    "    adjacent = []\n",
    "    for v in range(n):\n",
    "        if graph[u][v] == 1:\n",
    "            adjacent.append(v)\n",
    "    return adjacent\n",
    "\n",
    "# 테스트\n",
    "print(\"인접행렬: 0의 인접 정점 =\", get_adjacent_vertices_matrix(adj_matrix, 0))  # [1, 4]\n"
   ]
  },
  {
   "cell_type": "markdown",
   "id": "395432eb",
   "metadata": {},
   "source": [
    "# 인접리스트에서의 인접 정점 탐색\n",
    "- O(1) : 리스트 graph[u]에 인접 정점이 바로 저장되어 있으므로, 그것을 그대로 반환하거나 순회"
   ]
  },
  {
   "cell_type": "code",
   "execution_count": 14,
   "id": "da50f21d",
   "metadata": {},
   "outputs": [
    {
     "name": "stdout",
     "output_type": "stream",
     "text": [
      "인접리스트: 0의 인접 정점 = [1, 4]\n"
     ]
    }
   ],
   "source": [
    "# 인접리스트 초기화\n",
    "adj_list = [[] for _ in range(n)]\n",
    "\n",
    "# 간선 추가\n",
    "adj_list[0].append(1)\n",
    "adj_list[0].append(4)\n",
    "adj_list[1].append(2)\n",
    "adj_list[2].append(3)\n",
    "adj_list[4].append(2)\n",
    "adj_list[4].append(3)\n",
    "\n",
    "# 인접 정점 탐색 함수\n",
    "def get_adjacent_vertices_list(graph, u):\n",
    "    return graph[u]  # 이미 리스트 형태로 저장됨\n",
    "\n",
    "# 테스트\n",
    "print(\"인접리스트: 0의 인접 정점 =\", get_adjacent_vertices_list(adj_list, 0))  # [1, 4]\n"
   ]
  },
  {
   "cell_type": "markdown",
   "id": "b9a4bec8",
   "metadata": {},
   "source": [
    "# 인접행렬에서의 간선 삽입\n",
    "- O(1) : 행렬에서 graph[u][v] = 1로 설정하면 간선이 생김."
   ]
  },
  {
   "cell_type": "code",
   "execution_count": 9,
   "id": "6b3e8280",
   "metadata": {},
   "outputs": [
    {
     "name": "stdout",
     "output_type": "stream",
     "text": [
      "인접행렬: 0 → 2 = 1\n"
     ]
    }
   ],
   "source": [
    "# n = 정점 수\n",
    "n = 5\n",
    "adj_matrix = [[0]*n for _ in range(n)]\n",
    "\n",
    "# u → v 간선 삽입 함수\n",
    "def add_edge_matrix(graph, u, v):\n",
    "    graph[u][v] = 1\n",
    "\n",
    "# 예시: 0 → 2 간선 삽입\n",
    "add_edge_matrix(adj_matrix, 0, 2)\n",
    "print(\"인접행렬: 0 → 2 =\", adj_matrix[0][2])  # 출력: 1"
   ]
  },
  {
   "cell_type": "markdown",
   "id": "6965bf45",
   "metadata": {},
   "source": [
    "# 인접리스트에서의 간선 삽입\n",
    "- O(1) : 리스트에서 graph[u]에 v를 추가하면 됨"
   ]
  },
  {
   "cell_type": "code",
   "execution_count": 10,
   "id": "da119f35",
   "metadata": {},
   "outputs": [
    {
     "name": "stdout",
     "output_type": "stream",
     "text": [
      "인접리스트: 0의 인접 정점 = [2]\n"
     ]
    }
   ],
   "source": [
    "# 인접리스트 초기화\n",
    "adj_list = [[] for _ in range(n)]\n",
    "\n",
    "# u → v 간선 삽입 함수\n",
    "def add_edge_list(graph, u, v):\n",
    "    graph[u].append(v)\n",
    "\n",
    "# 예시: 0 → 2 간선 삽입\n",
    "add_edge_list(adj_list, 0, 2)\n",
    "print(\"인접리스트: 0의 인접 정점 =\", adj_list[0])  # 출력: [2]\n"
   ]
  },
  {
   "cell_type": "markdown",
   "id": "41296d16",
   "metadata": {},
   "source": [
    "# 인접행렬에서의 간선 삭제\n",
    "- O(1) : graph[u][v] = 0 으로 바꾸면 간선을 삭제한 것과 같음"
   ]
  },
  {
   "cell_type": "code",
   "execution_count": 11,
   "id": "1a38edb6",
   "metadata": {},
   "outputs": [
    {
     "name": "stdout",
     "output_type": "stream",
     "text": [
      "인접행렬: 0 → 2 = 0\n"
     ]
    }
   ],
   "source": [
    "# n = 정점 수\n",
    "n = 5\n",
    "adj_matrix = [[0]*n for _ in range(n)]\n",
    "adj_matrix[0][2] = 1  # 0 → 2 간선 존재\n",
    "\n",
    "# 간선 삭제 함수\n",
    "def remove_edge_matrix(graph, u, v):\n",
    "    graph[u][v] = 0\n",
    "\n",
    "# 삭제 실행\n",
    "remove_edge_matrix(adj_matrix, 0, 2)\n",
    "print(\"인접행렬: 0 → 2 =\", adj_matrix[0][2])  # 출력: 0"
   ]
  },
  {
   "cell_type": "markdown",
   "id": "973c262a",
   "metadata": {},
   "source": [
    "# 인접행렬에서의 간선 삭제\n",
    "- O(n) : 정점 u의 차수만큼 순회해서 v를 찾아야 함"
   ]
  },
  {
   "cell_type": "code",
   "execution_count": 15,
   "id": "0a6bd0eb",
   "metadata": {},
   "outputs": [
    {
     "name": "stdout",
     "output_type": "stream",
     "text": [
      "인접리스트: 0의 인접 정점 = []\n"
     ]
    }
   ],
   "source": [
    "# 인접리스트 초기화\n",
    "adj_list = [[] for _ in range(n)]\n",
    "adj_list[0].append(2)  # 0 → 2 간선 존재\n",
    "\n",
    "# 간선 삭제 함수\n",
    "def remove_edge_list(graph, u, v):\n",
    "    if v in graph[u]:\n",
    "        graph[u].remove(v)  # 없으면 ValueError 발생할 수 있으니 if로 확인\n",
    "\n",
    "# 삭제 실행\n",
    "remove_edge_list(adj_list, 0, 2)\n",
    "print(\"인접리스트: 0의 인접 정점 =\", adj_list[0])  # 출력: []"
   ]
  },
  {
   "cell_type": "markdown",
   "id": "5e4b0b87",
   "metadata": {},
   "source": [
    "Sparse Graph (밀도가 낮은 graph) 에서는 인접행렬이 시간 복잡도상 훨씬 불리함."
   ]
  }
 ],
 "metadata": {
  "kernelspec": {
   "display_name": "base",
   "language": "python",
   "name": "python3"
  },
  "language_info": {
   "codemirror_mode": {
    "name": "ipython",
    "version": 3
   },
   "file_extension": ".py",
   "mimetype": "text/x-python",
   "name": "python",
   "nbconvert_exporter": "python",
   "pygments_lexer": "ipython3",
   "version": "3.12.7"
  }
 },
 "nbformat": 4,
 "nbformat_minor": 5
}
