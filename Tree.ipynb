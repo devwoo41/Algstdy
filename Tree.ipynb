{
 "cells": [
  {
   "cell_type": "code",
   "execution_count": null,
   "id": "800c100b-fdaa-46dd-9b12-942d6ff56617",
   "metadata": {},
   "outputs": [],
   "source": [
    "# 표현법 1 - 리스트: level0 -> Level1 ->....."
   ]
  },
  {
   "cell_type": "code",
   "execution_count": 3,
   "id": "1db6c51e-c9eb-454f-87e7-ca39d5c6bca1",
   "metadata": {},
   "outputs": [
    {
     "data": {
      "image/png": "[encoded data removed]",
      "text/plain": [
       "<Figure size 1000x600 with 1 Axes>"
      ]
     },
     "metadata": {},
     "output_type": "display_data"
    }
   ],
   "source": [
    "import matplotlib.pyplot as plt\n",
    "import networkx as nx\n",
    "\n",
    "# 트리 노드 리스트\n",
    "A = ['a', 'b', 'c', None, 'd', 'e', 'f', None, None, 'h', 'i', 'g', None, None, None]\n",
    "\n",
    "# 트리 생성\n",
    "G = nx.DiGraph()\n",
    "\n",
    "# 노드와 간선 추가\n",
    "for i in range(len(A)):\n",
    "    if A[i] is None:\n",
    "        continue\n",
    "    left = 2*i + 1\n",
    "    right = 2*i + 2\n",
    "\n",
    "    if left < len(A) and A[left] is not None:\n",
    "        G.add_edge(A[i], A[left])\n",
    "    if right < len(A) and A[right] is not None:\n",
    "        G.add_edge(A[i], A[right])\n",
    "\n",
    "# 수동 계층 배치 함수 (pygraphviz 없이)\n",
    "def hierarchy_pos(G, root, width=1.0, vert_gap=0.2, vert_loc=0, xcenter=0.5):\n",
    "    pos = {}\n",
    "    def _hierarchy_pos(node, x, y, dx):\n",
    "        pos[node] = (x, y)\n",
    "        children = list(G.successors(node))\n",
    "        if len(children) != 0:\n",
    "            dx /= len(children)\n",
    "            nextx = x - dx*(len(children)-1)/2\n",
    "            for child in children:\n",
    "                _hierarchy_pos(child, nextx, y - vert_gap, dx)\n",
    "                nextx += dx\n",
    "    _hierarchy_pos(root, xcenter, vert_loc, width)\n",
    "    return pos\n",
    "\n",
    "# 루트는 'a'\n",
    "pos = hierarchy_pos(G, 'a')\n",
    "\n",
    "# 그리기\n",
    "plt.figure(figsize=(10, 6))\n",
    "nx.draw(G, pos, with_labels=True, arrows=True, node_size=2000, node_color='lightblue', font_size=14)\n",
    "plt.title(\"Binary Tree from List\")\n",
    "plt.show()\n"
   ]
  },
  {
   "cell_type": "code",
   "execution_count": 5,
   "id": "130d6ad1-cf37-430a-ae0a-c8ff2bc82f2c",
   "metadata": {},
   "outputs": [],
   "source": [
    "# 표현법 2 - 리스트: [a,[a의 왼쪽 부트리],[a의 오른쪽 부트리]]"
   ]
  },
  {
   "cell_type": "code",
   "execution_count": 6,
   "id": "4dbefe41-ac20-41f7-91c3-59458aaf308d",
   "metadata": {},
   "outputs": [],
   "source": [
    "# 트리를 중첩 리스트 형태로 정의\n",
    "tree = [\n",
    "    'a',\n",
    "    ['b',\n",
    "        [],\n",
    "        ['d', [], []]\n",
    "    ],\n",
    "    ['c',\n",
    "        ['e', [], []],\n",
    "        ['f', [], []]\n",
    "    ]\n",
    "]\n",
    "\n"
   ]
  },
  {
   "cell_type": "code",
   "execution_count": 7,
   "id": "0cf85769-6c4d-42ce-9fc2-3087f28d7590",
   "metadata": {},
   "outputs": [
    {
     "name": "stdout",
     "output_type": "stream",
     "text": [
      "a b d c e f "
     ]
    }
   ],
   "source": [
    "#전순위 탐방\n",
    "def preorder(tree):\n",
    "    if not tree:\n",
    "        return\n",
    "    root, left, right = tree\n",
    "    print(root, end=' ')\n",
    "    preorder(left)\n",
    "    preorder(right)\n",
    "\n",
    "\n",
    "preorder(tree)\n"
   ]
  },
  {
   "cell_type": "code",
   "execution_count": null,
   "id": "a6ddc401-b865-4879-aed3-ad4c5a4322a1",
   "metadata": {},
   "outputs": [],
   "source": [
    "# 표현법 3 -노드 클래스"
   ]
  },
  {
   "cell_type": "code",
   "execution_count": 9,
   "id": "8e787583-8a36-4c4f-ae02-3a6890d2b5a0",
   "metadata": {},
   "outputs": [],
   "source": [
    "class Node:\n",
    "    def __init__(self, key):\n",
    "        self.key = key         # 값 (데이터)\n",
    "        self.left = None       # 왼쪽 자식 노드\n",
    "        self.right = None      # 오른쪽 자식 노드"
   ]
  },
  {
   "cell_type": "code",
   "execution_count": 10,
   "id": "c8d95514-828b-492e-b7e6-b511516d61d2",
   "metadata": {},
   "outputs": [],
   "source": [
    "root = Node('a')\n",
    "root.left = Node('b')\n",
    "root.right = Node('c')\n",
    "root.left.right = Node('d')\n",
    "root.right.left = Node('e')\n",
    "root.right.right = Node('f')"
   ]
  },
  {
   "cell_type": "code",
   "execution_count": 11,
   "id": "f0248873-7684-4a98-9006-63d0595ceb4f",
   "metadata": {},
   "outputs": [
    {
     "name": "stdout",
     "output_type": "stream",
     "text": [
      "a b d c e f "
     ]
    }
   ],
   "source": [
    "def preorder(node):\n",
    "    if node:\n",
    "        print(node.key, end=' ')\n",
    "        preorder(node.left)\n",
    "        preorder(node.right)\n",
    "\n",
    "preorder(root)"
   ]
  },
  {
   "cell_type": "code",
   "execution_count": null,
   "id": "c3f1b53f-3f0f-4434-8866-de980e94a6d9",
   "metadata": {},
   "outputs": [],
   "source": [
    "# 힙"
   ]
  },
  {
   "cell_type": "code",
   "execution_count": 14,
   "id": "9823c8d4-b195-4cfb-94c6-59e685b5b53d",
   "metadata": {},
   "outputs": [
    {
     "name": "stdout",
     "output_type": "stream",
     "text": [
      "H[2] = c\n",
      " → 왼쪽 자식: e, 오른쪽 자식: f\n",
      "H[5] = e\n",
      " → 부모 노드: c\n"
     ]
    }
   ],
   "source": [
    "H = ['a', 'b', 'c', None, 'd', 'e', 'f']\n",
    "\n",
    "def get_children(index, H):\n",
    "    left = 2 * index + 1\n",
    "    right = 2 * index + 2\n",
    "    left_val = H[left] if left < len(H) else None\n",
    "    right_val = H[right] if right < len(H) else None\n",
    "    return left_val, right_val\n",
    "\n",
    "def get_parent(index, H):\n",
    "    if index == 0:\n",
    "        return None  \n",
    "    parent = (index - 1) // 2\n",
    "    return H[parent]\n",
    "\n",
    "\n",
    "print(f\"H[2] = {H[2]}\")\n",
    "left, right = get_children(2, H)\n",
    "print(f\" → 왼쪽 자식: {left}, 오른쪽 자식: {right}\")\n",
    "\n",
    "\n",
    "print(f\"H[5] = {H[5]}\")\n",
    "parent = get_parent(5, H)\n",
    "print(f\" → 부모 노드: {parent}\")\n"
   ]
  },
  {
   "cell_type": "code",
   "execution_count": 15,
   "id": "bb494c55-ac6d-4fc1-9fcf-be3f4a95dabf",
   "metadata": {},
   "outputs": [],
   "source": [
    "def print_heap_tree(H):\n",
    "    for i in range(len(H)):\n",
    "        left, right = get_children(i, H)\n",
    "        print(f\"H[{i}] = {H[i]} → 왼: {left}, 오: {right}\")"
   ]
  },
  {
   "cell_type": "code",
   "execution_count": 16,
   "id": "bdb1236c-1d9b-446f-96fd-c983ef683f87",
   "metadata": {},
   "outputs": [
    {
     "name": "stdout",
     "output_type": "stream",
     "text": [
      "H[0] = a → 왼: b, 오: c\n",
      "H[1] = b → 왼: None, 오: d\n",
      "H[2] = c → 왼: e, 오: f\n",
      "H[3] = None → 왼: None, 오: None\n",
      "H[4] = d → 왼: None, 오: None\n",
      "H[5] = e → 왼: None, 오: None\n",
      "H[6] = f → 왼: None, 오: None\n"
     ]
    }
   ],
   "source": [
    "print_heap_tree(H)"
   ]
  },
  {
   "cell_type": "code",
   "execution_count": null,
   "id": "5a1cfcc1-4adb-447c-bb19-e61af830c5ef",
   "metadata": {},
   "outputs": [],
   "source": [
    "# make-heap"
   ]
  },
  {
   "cell_type": "code",
   "execution_count": 27,
   "id": "951869ad-7d6d-4c96-bc8c-a4eaf71a960e",
   "metadata": {},
   "outputs": [],
   "source": [
    "A = [15, 17, 6, 11, 10, 9, 3, 1, 8]"
   ]
  },
  {
   "cell_type": "code",
   "execution_count": 19,
   "id": "25b5f14c-646d-400b-8c18-3102d98f18bf",
   "metadata": {},
   "outputs": [],
   "source": [
    "def make_heap(A):\n",
    "    n = len(A)\n",
    "    for k in range(n - 1, -1, -1):  \n",
    "        heapify_down(A, k, n)"
   ]
  },
  {
   "cell_type": "code",
   "execution_count": 37,
   "id": "1f9c418f-9d41-4785-9fe4-a94bd2916d67",
   "metadata": {},
   "outputs": [],
   "source": [
    "def heapify_down(A, k, n):\n",
    "    while 2 * k + 1 < n:  # 자식이 존재하면 계속\n",
    "        l = 2 * k + 1\n",
    "        r = 2 * k + 2\n",
    "        m = k\n",
    "\n",
    "        if l < n and A[l] > A[m]:  # 왼쪽 자식이 부모보다 크면\n",
    "            m = l\n",
    "        if r < n and A[r] > A[m]:  # 오른쪽 자식이 더 크면\n",
    "            m = r\n",
    "\n",
    "        if m == k:\n",
    "            break  # 이미 힙 성질 만족 → 종료\n",
    "        A[k], A[m] = A[m], A[k]  # 교환\n",
    "        k = m  # 아래로 내려가며 반복"
   ]
  },
  {
   "cell_type": "code",
   "execution_count": 28,
   "id": "accdfbf9-5649-4ba0-a537-b860f8f13584",
   "metadata": {},
   "outputs": [],
   "source": [
    "make_heap(A)"
   ]
  },
  {
   "cell_type": "code",
   "execution_count": 29,
   "id": "3edeca94-1165-4e78-9e68-e18b772eedf8",
   "metadata": {},
   "outputs": [
    {
     "data": {
      "text/plain": [
       "[17, 15, 9, 11, 10, 6, 3, 1, 8]"
      ]
     },
     "execution_count": 29,
     "metadata": {},
     "output_type": "execute_result"
    }
   ],
   "source": [
    "A"
   ]
  },
  {
   "cell_type": "code",
   "execution_count": null,
   "id": "f49ddec4-a76a-4503-b2e4-90a9cca02865",
   "metadata": {},
   "outputs": [],
   "source": [
    "# Insert 연산"
   ]
  },
  {
   "cell_type": "code",
   "execution_count": 30,
   "id": "80bffd03-df20-45af-af70-47d64d25e69e",
   "metadata": {},
   "outputs": [],
   "source": [
    "heap = [15, 12, 6, 11, 10, 2, 3, 1, 8]  # Max Heap"
   ]
  },
  {
   "cell_type": "code",
   "execution_count": 31,
   "id": "d5341387-7dc0-4c1d-be28-deb6a4b57eee",
   "metadata": {},
   "outputs": [],
   "source": [
    "def insert(heap, value):\n",
    "    # Step 1: 맨 끝에 삽입\n",
    "    heap.append(value)\n",
    "    i = len(heap) - 1\n",
    "\n",
    "    # Step 2: 부모보다 크면 교환하며 위로 올라감 (heapify-up)\n",
    "    while i > 0:\n",
    "        parent = (i - 1) // 2\n",
    "        if heap[i] > heap[parent]:\n",
    "            heap[i], heap[parent] = heap[parent], heap[i]\n",
    "            i = parent\n",
    "        else:\n",
    "            break"
   ]
  },
  {
   "cell_type": "code",
   "execution_count": 33,
   "id": "f1f0057a-793a-4ed3-9da6-47a482afd399",
   "metadata": {},
   "outputs": [
    {
     "name": "stdout",
     "output_type": "stream",
     "text": [
      "[15, 14, 6, 11, 14, 2, 3, 1, 8, 10, 12]\n"
     ]
    }
   ],
   "source": [
    "insert(heap, 14)\n",
    "print(heap)"
   ]
  },
  {
   "cell_type": "code",
   "execution_count": null,
   "id": "418e5c7b-b9d7-441f-a80b-e323d2529998",
   "metadata": {},
   "outputs": [],
   "source": [
    "# Find-max 연산 & delete-max 연산"
   ]
  },
  {
   "cell_type": "code",
   "execution_count": 39,
   "id": "cee289b4-3dd5-498e-b82d-e21bd456a077",
   "metadata": {},
   "outputs": [],
   "source": [
    "def delete_max(heap):\n",
    "    if len(heap) == 0:\n",
    "        return None\n",
    "\n",
    "    # 최대값 저장\n",
    "    max_value = heap[0]\n",
    "\n",
    "    # 마지막 원소와 root를 swap\n",
    "    heap[0], heap[-1] = heap[-1], heap[0]\n",
    "\n",
    "    # 마지막 원소 제거 (max 제거)\n",
    "    heap.pop()\n",
    "\n",
    "    # heapify-down 수행\n",
    "    heapify_down(heap, 0)\n",
    "\n",
    "    return max_value\n"
   ]
  },
  {
   "cell_type": "code",
   "execution_count": 42,
   "id": "24122259-6f9c-4d16-aab4-67c2d987a9cc",
   "metadata": {},
   "outputs": [],
   "source": [
    "def heapify_down(heap, i):\n",
    "    n = len(heap)\n",
    "    while True:\n",
    "        left = 2 * i + 1\n",
    "        right = 2 * i + 2\n",
    "        largest = i\n",
    "\n",
    "        if left < n and heap[left] > heap[largest]:\n",
    "            largest = left\n",
    "        if right < n and heap[right] > heap[largest]:\n",
    "            largest = right\n",
    "\n",
    "        if largest == i:\n",
    "            break\n",
    "\n",
    "        heap[i], heap[largest] = heap[largest], heap[i]\n",
    "        i = largest\n"
   ]
  },
  {
   "cell_type": "code",
   "execution_count": 40,
   "id": "a6994238-7454-4dcd-9a50-d55dd0e06d07",
   "metadata": {},
   "outputs": [],
   "source": [
    "heap = [15, 12, 6, 11, 10, 2, 3, 1, 8]\n"
   ]
  },
  {
   "cell_type": "code",
   "execution_count": 43,
   "id": "09e5f02f-7a76-4275-aa76-1a2b5f4a0ec3",
   "metadata": {},
   "outputs": [
    {
     "data": {
      "text/plain": [
       "8"
      ]
     },
     "execution_count": 43,
     "metadata": {},
     "output_type": "execute_result"
    }
   ],
   "source": [
    "delete_max(heap)"
   ]
  },
  {
   "cell_type": "code",
   "execution_count": 44,
   "id": "85c15be3-3cd7-4c18-a2c6-44b0a19cd8e1",
   "metadata": {},
   "outputs": [
    {
     "data": {
      "text/plain": [
       "[12, 11, 6, 1, 10, 2, 3]"
      ]
     },
     "execution_count": 44,
     "metadata": {},
     "output_type": "execute_result"
    }
   ],
   "source": [
    "heap"
   ]
  },
  {
   "cell_type": "code",
   "execution_count": null,
   "id": "82cd7aac-9288-4cf5-a83b-a42649519952",
   "metadata": {},
   "outputs": [],
   "source": []
  },
  {
   "cell_type": "code",
   "execution_count": null,
   "id": "39268a36-2b1e-436b-9ed2-e0ab5278d382",
   "metadata": {},
   "outputs": [],
   "source": []
  },
  {
   "cell_type": "code",
   "execution_count": null,
   "id": "7fa1fc1b-caa6-4b4e-bcdc-db1cc4e695ff",
   "metadata": {},
   "outputs": [],
   "source": []
  }
 ],
 "metadata": {
  "kernelspec": {
   "display_name": "Python 3 (ipykernel)",
   "language": "python",
   "name": "python3"
  },
  "language_info": {
   "codemirror_mode": {
    "name": "ipython",
    "version": 3
   },
   "file_extension": ".py",
   "mimetype": "text/x-python",
   "name": "python",
   "nbconvert_exporter": "python",
   "pygments_lexer": "ipython3",
   "version": "3.12.7"
  }
 },
 "nbformat": 4,
 "nbformat_minor": 5
}
