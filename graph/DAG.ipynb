{
 "cells": [
  {
   "cell_type": "markdown",
   "id": "9482f32d",
   "metadata": {},
   "source": [
    "# DAG\n",
    "-방향이 있고(Directed), 사이클이 없는(Acyclic) 그래프\n",
    "-시작점: 진입차수 0인 노드들\n",
    "-끝점: 진출차수 0인 노드들, DFS를 기준으로는 backtrack이 처음으로 일어나는 곳."
   ]
  },
  {
   "cell_type": "code",
   "execution_count": 1,
   "id": "86480726",
   "metadata": {},
   "outputs": [
    {
     "name": "stdout",
     "output_type": "stream",
     "text": [
      "위상정렬 결과: ['A', 'B', 'C', 'D']\n"
     ]
    }
   ],
   "source": [
    "from collections import deque, defaultdict\n",
    "\n",
    "def topological_sort(graph):\n",
    "    indegree = defaultdict(int)\n",
    "    result = []\n",
    "    \n",
    "    # 모든 노드의 indegree 계산\n",
    "    for u in graph:\n",
    "        for v in graph[u]:\n",
    "            indegree[v] += 1\n",
    "            \n",
    "    # 진입 차수가 0인 노드들을 큐에 삽입\n",
    "    queue = deque([node for node in graph if indegree[node] == 0])\n",
    "    \n",
    "    while queue:\n",
    "        node = queue.popleft()\n",
    "        result.append(node)\n",
    "        for neighbor in graph[node]:\n",
    "            indegree[neighbor] -= 1\n",
    "            if indegree[neighbor] == 0:\n",
    "                queue.append(neighbor)\n",
    "    \n",
    "    return result\n",
    "\n",
    "# 예시 DAG\n",
    "graph = {\n",
    "    'A': ['B', 'C'],\n",
    "    'B': ['D'],\n",
    "    'C': ['D'],\n",
    "    'D': []\n",
    "}\n",
    "\n",
    "print(\"위상정렬 결과:\", topological_sort(graph))  # ['A', 'B', 'C', 'D'] 또는 ['A', 'C', 'B', 'D']\n"
   ]
  }
 ],
 "metadata": {
  "kernelspec": {
   "display_name": "base",
   "language": "python",
   "name": "python3"
  },
  "language_info": {
   "codemirror_mode": {
    "name": "ipython",
    "version": 3
   },
   "file_extension": ".py",
   "mimetype": "text/x-python",
   "name": "python",
   "nbconvert_exporter": "python",
   "pygments_lexer": "ipython3",
   "version": "3.12.7"
  }
 },
 "nbformat": 4,
 "nbformat_minor": 5
}
